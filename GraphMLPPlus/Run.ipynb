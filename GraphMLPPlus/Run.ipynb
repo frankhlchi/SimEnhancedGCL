{
 "cells": [
  {
   "cell_type": "code",
   "execution_count": null,
   "id": "6be77b38",
   "metadata": {},
   "outputs": [],
   "source": [
    "! python train.py --lr=0.001 --weight_decay=5e-3 --data=cora --alpha=10.0 --hidden=256 --batch_size=2000 --order=2 --tau=2 --rand_seed 1"
   ]
  },
  {
   "cell_type": "code",
   "execution_count": null,
   "id": "65980f17",
   "metadata": {},
   "outputs": [],
   "source": [
    "! python train.py --lr=0.001 --weight_decay=5e-3 --data=citeseer --alpha=1.0 --hidden=256 --batch_size=2000 --order=2 --tau=0.5  --rand_seed 1"
   ]
  },
  {
   "cell_type": "code",
   "execution_count": null,
   "id": "13da99ee",
   "metadata": {},
   "outputs": [],
   "source": [
    "! python train.py --lr=0.1 --weight_decay=5e-3 --data=pubmed --alpha=100 --hidden=256 --batch_size=2000 --order=2 --tau=1  --rand_seed 1"
   ]
  }
 ],
 "metadata": {
  "kernelspec": {
   "display_name": "Python 3.7.11 64-bit ('pyg': conda)",
   "language": "python",
   "name": "python3711jvsc74a57bd07ce14aceefccb24a77dd03204c242557ebdcdff045869c7437952b83b639a637"
  },
  "language_info": {
   "codemirror_mode": {
    "name": "ipython",
    "version": 3
   },
   "file_extension": ".py",
   "mimetype": "text/x-python",
   "name": "python",
   "nbconvert_exporter": "python",
   "pygments_lexer": "ipython3",
   "version": "3.7.11"
  }
 },
 "nbformat": 4,
 "nbformat_minor": 5
}
